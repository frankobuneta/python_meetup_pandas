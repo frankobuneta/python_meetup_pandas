{
 "cells": [
  {
   "cell_type": "markdown",
   "id": "06ff28f1-c17c-4b2d-9495-b1890cf686de",
   "metadata": {},
   "source": [
    "[Predictive Analytics for CRM Sales Performance](https://www.kaggle.com/datasets/agungpambudi/crm-sales-predictive-analytics)\n",
    "\n",
    "You will find the dataset here (with other tables). I only used a small part of it."
   ]
  },
  {
   "cell_type": "code",
   "execution_count": null,
   "id": "d21471ab-3123-41f0-9e00-8826e61ca377",
   "metadata": {},
   "outputs": [],
   "source": [
    "\n",
    "# This is changed to Raw as there is really no need to run this, but you can change it to Code and run it\n",
    "\n",
    "import create_pickles\n",
    "create_pickles.run('files/')"
   ]
  },
  {
   "cell_type": "code",
   "execution_count": null,
   "id": "f3d422f0-3e14-4d71-8b04-3ebbb8225915",
   "metadata": {},
   "outputs": [],
   "source": [
    "import typing as tp\n",
    "\n",
    "import IPython.display as ip\n",
    "import pandas as pd\n",
    "\n",
    "import pandas_tools as pt_lib\n"
   ]
  },
  {
   "cell_type": "code",
   "execution_count": null,
   "id": "97f17c8e-4d2e-4d94-bb38-015a327db091",
   "metadata": {},
   "outputs": [],
   "source": [
    "accounts = pd.read_pickle('pickles/accounts.pkl')\n",
    "sales = pd.read_pickle('pickles/sales.pkl')\n"
   ]
  },
  {
   "cell_type": "code",
   "execution_count": null,
   "id": "db4b24bb-fd19-4e22-b2ce-94178cb22e6b",
   "metadata": {},
   "outputs": [],
   "source": [
    "\n",
    "accounts_metadata = {\n",
    "    'name': 'accounts',\n",
    "    'source_file': 'accounts.csv',\n",
    "    'source_path': 'Downloads/',\n",
    "    'source_type': 'CSV'}\n",
    "\n",
    "accounts.attrs = accounts_metadata\n",
    "\n",
    "sales_metadata = {\n",
    "    'name': 'sales',\n",
    "    'source_file': 'sales_pipeline.csv',\n",
    "    'source_path': 'Downloads/',\n",
    "    'source_type': 'CSV'}\n",
    "\n",
    "sales.attrs = sales_metadata"
   ]
  },
  {
   "cell_type": "code",
   "execution_count": null,
   "id": "e0d27ef0-4141-4b92-921f-453004e6fdb5",
   "metadata": {},
   "outputs": [],
   "source": [
    "sales.attrs"
   ]
  },
  {
   "cell_type": "code",
   "execution_count": null,
   "id": "cd6567d7-1ec3-4d98-8989-339eeba779bf",
   "metadata": {},
   "outputs": [],
   "source": [
    "pt_lib.tidy_sales(sales)"
   ]
  },
  {
   "cell_type": "code",
   "execution_count": null,
   "id": "c9e7069c-0bd9-4fa3-ba26-635a31c26ab8",
   "metadata": {},
   "outputs": [],
   "source": [
    "pt_lib.tidy_accounts(accounts)"
   ]
  },
  {
   "cell_type": "code",
   "execution_count": null,
   "id": "a808b4b5-dae0-4507-8e55-d86d68f8f782",
   "metadata": {},
   "outputs": [],
   "source": [
    "\n",
    "# This is an example of merge creating additional rows, columns, and converting employee table to float64\n",
    "# which is all undesired behaviour\n",
    "pd.merge(sales, accounts, on='account', how='left')"
   ]
  },
  {
   "cell_type": "code",
   "execution_count": null,
   "id": "9e9e9afa-81f7-4e58-b88c-c88699fed71a",
   "metadata": {},
   "outputs": [],
   "source": [
    "\n",
    "# This code will generate custom error MergeErrorDuplicateColumns to show\n",
    "# how merge_safe() is preventing duplication of columns\n",
    "\n",
    "pandas_tools = pt_lib.PandasTools()\n",
    "\n",
    "pandas_tools.merge_safe(sales, accounts, on='account')"
   ]
  },
  {
   "cell_type": "code",
   "execution_count": null,
   "id": "2c67fbed-ab87-44d7-8fda-29de49b0ade5",
   "metadata": {},
   "outputs": [],
   "source": [
    "\n",
    "# After fixing the columns issue by removing 'revenue' column from sales...\n",
    "# This code will generate custom error MergeErrorDuplicateRows to show\n",
    "# how merge_safe() is preventing duplication of rows as well\n",
    "\n",
    "sales_clean = sales.copy()\n",
    "sales_clean = pandas_tools.exclude_columns(sales_clean, 'revenue')\n",
    "pandas_tools.merge_safe(sales_clean, accounts, on='account')"
   ]
  },
  {
   "cell_type": "code",
   "execution_count": null,
   "id": "e79ced78-c3d1-4967-a515-d9b582ef15fd",
   "metadata": {},
   "outputs": [],
   "source": [
    "# This is good now\n",
    "sales_clean = sales.copy()\n",
    "sales_clean = pandas_tools.exclude_columns(sales_clean, 'revenue')\n",
    "accounts_clean = accounts.copy()\n",
    "accounts_clean.drop_duplicates(subset='account', inplace=True, ignore_index=True)\n",
    "pandas_tools.merge_safe(sales_clean, accounts_clean, on='account')"
   ]
  },
  {
   "cell_type": "code",
   "execution_count": null,
   "id": "777be3ac-2dbd-46f1-b645-8f536a2f904f",
   "metadata": {},
   "outputs": [],
   "source": [
    "# This code will generate an error to shouw that there is no tools attribute\n",
    "# of a dataframe\n",
    "sales_clean.tools"
   ]
  },
  {
   "cell_type": "code",
   "execution_count": null,
   "id": "5e22b81d-a5c7-408e-8eb8-aa9f7fa75e7d",
   "metadata": {},
   "outputs": [],
   "source": [
    "import pandas_tools_with_rda as pd_rda"
   ]
  },
  {
   "cell_type": "code",
   "execution_count": null,
   "id": "acd04770-b0c9-4256-99c5-6321624bb89d",
   "metadata": {},
   "outputs": [],
   "source": [
    "# Sales with accounts - now we have tools\n",
    "swat = sales_clean.tools.merge_safe(accounts_clean, on='account')\n",
    "swat"
   ]
  },
  {
   "cell_type": "code",
   "execution_count": null,
   "id": "e1a23443-86ac-4437-8954-0eeb58780cc4",
   "metadata": {},
   "outputs": [],
   "source": [
    "swat.dtype"
   ]
  },
  {
   "cell_type": "code",
   "execution_count": null,
   "id": "caaac928-9f0d-492c-bf21-1baa14991c78",
   "metadata": {},
   "outputs": [],
   "source": [
    "swat.dtype.view_floats()"
   ]
  },
  {
   "cell_type": "code",
   "execution_count": null,
   "id": "7da1329d-90c7-4654-b8ac-c449787b4817",
   "metadata": {},
   "outputs": [],
   "source": [
    "swat.cols.get('close')"
   ]
  },
  {
   "cell_type": "code",
   "execution_count": null,
   "id": "638dd70c-c775-4e57-a28b-8f7def12fdea",
   "metadata": {},
   "outputs": [],
   "source": [
    "swat_metadata = {\n",
    "    'name': 'sales with accounts',\n",
    "    'sources' : ['sales', 'accounts'],\n",
    "    'source_type': 'DataFrame'}\n",
    "\n",
    "swat.attrs = swat_metadata\n",
    "swat.to_pickle('pickles/sales_with_accounts.pkl')\n"
   ]
  },
  {
   "cell_type": "code",
   "execution_count": null,
   "id": "ebe354aa-6d67-4745-8497-75935250f590",
   "metadata": {},
   "outputs": [],
   "source": []
  }
 ],
 "metadata": {
  "kernelspec": {
   "display_name": "Python 3 (ipykernel)",
   "language": "python",
   "name": "python3"
  },
  "language_info": {
   "codemirror_mode": {
    "name": "ipython",
    "version": 3
   },
   "file_extension": ".py",
   "mimetype": "text/x-python",
   "name": "python",
   "nbconvert_exporter": "python",
   "pygments_lexer": "ipython3",
   "version": "3.13.4"
  }
 },
 "nbformat": 4,
 "nbformat_minor": 5
}

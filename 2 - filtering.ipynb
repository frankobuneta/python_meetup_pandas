{
 "cells": [
  {
   "cell_type": "code",
   "execution_count": null,
   "id": "3a0b15ac-a400-40ea-8cd1-756ecc726ba3",
   "metadata": {},
   "outputs": [],
   "source": [
    "\n",
    "import IPython.display as ip\n",
    "import pandas as pd\n"
   ]
  },
  {
   "cell_type": "code",
   "execution_count": null,
   "id": "63fe37b3-8587-437b-b2f6-6c5b45edcecc",
   "metadata": {},
   "outputs": [],
   "source": [
    "swat = pd.read_pickle('pickles/sales_with_accounts.pkl')\n"
   ]
  },
  {
   "cell_type": "code",
   "execution_count": null,
   "id": "bc2365a1-15a9-4b4c-aa8f-b01eb914176a",
   "metadata": {},
   "outputs": [],
   "source": [
    "# Check the sector columns, there is 'technolgy' which is a typo error\n",
    "swat"
   ]
  },
  {
   "cell_type": "code",
   "execution_count": null,
   "id": "cdf8b0fb-259f-4473-b5e4-f673138ea4c9",
   "metadata": {},
   "outputs": [],
   "source": [
    "swat['sector'] == 'technolgy'"
   ]
  },
  {
   "cell_type": "code",
   "execution_count": null,
   "id": "3105649d-5fdc-48f6-b4dc-5b33d145fed3",
   "metadata": {},
   "outputs": [],
   "source": [
    "# This piece of code joined sector and sector_bool together to show them side-by-side\n",
    "# and explain how bool filters work\n",
    "\n",
    "sector_bool = (swat['sector'] == 'technolgy').reset_index()[['sector']].rename(columns={'sector': 'sector_bool'})\n",
    "pd.concat([swat['sector'], sector_bool], axis=1)"
   ]
  },
  {
   "cell_type": "code",
   "execution_count": null,
   "id": "83898e31-7839-4dc0-b792-e2eae9f5cd88",
   "metadata": {},
   "outputs": [],
   "source": [
    "sector_html = swat[['sector']].to_html()\n",
    "technology_bool_html = sector_bool.to_html()\n",
    "\n",
    "ip.HTML(f\"\"\"<div style=\"display: flex; gap: 50px;\">\\\n",
    "                <div>{sector_html}</div>\\\n",
    "                <div>{technology_bool_html}</div>\\\n",
    "              </div>\"\"\")"
   ]
  },
  {
   "cell_type": "code",
   "execution_count": null,
   "id": "02a0ecec-3bf0-4a91-bf55-946c4974f217",
   "metadata": {},
   "outputs": [],
   "source": [
    "technolgy_bool = swat['sector'] == 'technolgy'\n",
    "swat.loc[technolgy_bool, 'sector'] = 'technology'\n",
    "swat"
   ]
  },
  {
   "cell_type": "code",
   "execution_count": null,
   "id": "fa28b644-222c-4b77-8bd8-0b7b545c4dfd",
   "metadata": {},
   "outputs": [],
   "source": []
  },
  {
   "cell_type": "code",
   "execution_count": null,
   "id": "678c8a21-b1b7-4b5b-b82f-2530d4aeeed1",
   "metadata": {},
   "outputs": [],
   "source": [
    "swat.to_pickle('pickles/swat_clean.pkl')"
   ]
  },
  {
   "cell_type": "code",
   "execution_count": null,
   "id": "921328bd-d50b-4e6a-a86a-1c54c697bc7e",
   "metadata": {},
   "outputs": [],
   "source": [
    "account_is_na = swat['account'].isna()\n",
    "swat[account_is_na]"
   ]
  },
  {
   "cell_type": "code",
   "execution_count": null,
   "id": "f5bfd4b6-9ef5-4bd7-97af-b2364d5c2fa3",
   "metadata": {},
   "outputs": [],
   "source": [
    "q4 = swat['close_date'] >= pd.Timestamp(2017, 10, 1)\n",
    "swat[q4]"
   ]
  },
  {
   "cell_type": "markdown",
   "id": "9bec8b74-3faa-4b04-9d16-83ff6b8d470d",
   "metadata": {},
   "source": [
    "\n",
    "```mermaid\n",
    "---\n",
    "config:\n",
    "    theme: forest\n",
    "---\n",
    "\n",
    "flowchart LR\n",
    "    Start[Start] --> A{close_value > 1000?}\n",
    "    A -- Yes --> BigDeal[\"big deal focus\"]\n",
    "    A -- No --> B{close_value < 100 or NaN?}\n",
    "    B -- Yes --> SmallDeal[\"small deal no focus\"]\n",
    "    B -- No --> C{sector == technology' AND employees > 3000?}\n",
    "    C -- Yes --> BigTech[\"big_tech\"]\n",
    "    C -- No --> Further[\"further_review\"]\n",
    "```"
   ]
  },
  {
   "cell_type": "code",
   "execution_count": null,
   "id": "ab21f1a4-7d83-4054-9384-e11d110284bc",
   "metadata": {},
   "outputs": [],
   "source": [
    "\n",
    "# swat['strategic_review'] = pd.Series(\n",
    "swat['strategic_review'] = None\n",
    "\n",
    "big_deals = swat['close_value'] > 1000\n",
    "swat.loc[big_deals, 'strategic_review'] = 'big deal focus'\n",
    "\n",
    "no_deal = swat['close_value'] < 100\n",
    "no_deal |= swat['close_value'].isna()\n",
    "swat.loc[no_deal, 'strategic_review'] = 'small deal no focus'\n",
    "\n",
    "big_tech = swat['sector'] == 'technology'\n",
    "big_tech &= swat['employees'] > 3000\n",
    "big_tech &= swat['strategic_review'].isna()\n",
    "swat.loc[big_tech, 'strategic_review'] = 'big_tech'\n",
    "\n",
    "or_else = swat['strategic_review'].isna()\n",
    "swat.loc[or_else, 'strategic_review'] = 'further_review'\n",
    "\n",
    "swat['strategic_review'] = swat['strategic_review'].astype('string')\n"
   ]
  },
  {
   "cell_type": "code",
   "execution_count": null,
   "id": "bbdf9d63-8e83-430a-8724-eebff295f795",
   "metadata": {},
   "outputs": [],
   "source": [
    "swat"
   ]
  },
  {
   "cell_type": "code",
   "execution_count": null,
   "id": "04948cf8-b978-465e-9479-45438bee05ab",
   "metadata": {},
   "outputs": [],
   "source": [
    "\n",
    "import typing as tp\n",
    "\n",
    "def equal(data_series: pd.Series, criteria: tp.Any) -> pd.Series:\n",
    "\n",
    "    return data_series == criteria\n",
    "\n",
    "def greater_than(data_series: pd.Series, criteria: tp.Any) -> pd.Series:\n",
    "\n",
    "    return data_series > criteria\n",
    "\n",
    "def lesser_than(data_series: pd.Series, criteria: tp.Any) -> pd.Series:\n",
    "\n",
    "    return data_series < criteria\n",
    "\n",
    "def isna(data_series: pd.Series) -> pd.Series:\n",
    "\n",
    "    return data_series.isna()\n",
    "\n",
    "def not_series(series: pd.Series):\n",
    "    return ~series\n",
    "\n",
    "def and_all(series_list: list[pd.Series]):\n",
    "\n",
    "    result = series_list[0]\n",
    "\n",
    "    for s in series_list[1:]:\n",
    "        result = result & s\n",
    "\n",
    "    return result\n",
    "\n",
    "def or_all(series_list: list[pd.Series]):\n",
    "    result = series_list[0]\n",
    "    for s in series_list[1:]:\n",
    "        result = result | s\n",
    "    return result\n",
    "\n",
    "\n"
   ]
  },
  {
   "cell_type": "code",
   "execution_count": null,
   "id": "8999b49c-4ebc-4aac-85c3-671b549632b9",
   "metadata": {},
   "outputs": [],
   "source": [
    "def strategic_review(\n",
    "    swat: pd.DataFrame):\n",
    "    \n",
    "    swat['strategic_review'] = None\n",
    "\n",
    "    big_deals = greater_than(swat['close_value'], 1000)\n",
    "    swat.loc[big_deals, 'strategic_review'] = 'big deal focus'\n",
    "\n",
    "    no_deal = or_all([\n",
    "        lesser_than(swat['close_value'], 100),\n",
    "        isna(swat['close_value'])])\n",
    "    swat.loc[no_deal, 'strategic_review'] = 'small deal no focus'\n",
    "\n",
    "    big_tech = and_all([\n",
    "        equal(swat['sector'], 'technology'),\n",
    "        greater_than(swat['employees'], 3000),\n",
    "        isna(swat['strategic_review'])])\n",
    "    swat.loc[big_tech, 'strategic_review'] = 'big tech'\n",
    "\n",
    "    or_else = isna(swat['strategic_review'])\n",
    "    swat.loc[or_else, 'strategic_review'] = 'further review'\n",
    "\n",
    "    swat['strategic_review'] = swat['strategic_review'].astype('string')\n",
    "\n",
    "    return swat\n"
   ]
  },
  {
   "cell_type": "code",
   "execution_count": null,
   "id": "9f91e742-a955-4935-bf38-3a06611c5d4a",
   "metadata": {},
   "outputs": [],
   "source": [
    "# You could run this last line if you like - you will see the\n",
    "# results in the last column\n",
    "strategic_review(swat)"
   ]
  },
  {
   "cell_type": "code",
   "execution_count": null,
   "id": "088d9f77-c8d2-4177-a2e5-df6d56d90e8d",
   "metadata": {},
   "outputs": [],
   "source": []
  }
 ],
 "metadata": {
  "kernelspec": {
   "display_name": "Python 3 (ipykernel)",
   "language": "python",
   "name": "python3"
  },
  "language_info": {
   "codemirror_mode": {
    "name": "ipython",
    "version": 3
   },
   "file_extension": ".py",
   "mimetype": "text/x-python",
   "name": "python",
   "nbconvert_exporter": "python",
   "pygments_lexer": "ipython3",
   "version": "3.13.4"
  }
 },
 "nbformat": 4,
 "nbformat_minor": 5
}
